{
 "cells": [
  {
   "cell_type": "markdown",
   "metadata": {},
   "source": [
    "# Function plotting"
   ]
  },
  {
   "cell_type": "code",
   "execution_count": null,
   "metadata": {},
   "outputs": [],
   "source": [
    "# importing reqired libraries \n",
    "import numpy as np\n",
    "import matplotlib.pyplot as plt\n",
    "import pandas as pd"
   ]
  },
  {
   "cell_type": "markdown",
   "metadata": {},
   "source": [
    "## A linear plotting"
   ]
  },
  {
   "cell_type": "code",
   "execution_count": null,
   "metadata": {},
   "outputs": [],
   "source": [
    "x=np.arange(-5.0,5.0,0.1)\n",
    "a=2\n",
    "b=3\n",
    "y=a*(x)+b\n",
    "y_noise=2*np.random.normal(size=x.size)\n",
    "ydata=y+y_noise\n",
    "plt.plot(x,ydata,'b')\n",
    "plt.plot(x,y,'r')\n",
    "plt.ylabel('Dependent variable')\n",
    "plt.xlabel('Independent variable')\n",
    "plt.show()"
   ]
  },
  {
   "cell_type": "markdown",
   "metadata": {},
   "source": [
    "## A quadratic function plotting"
   ]
  },
  {
   "cell_type": "code",
   "execution_count": null,
   "metadata": {},
   "outputs": [],
   "source": [
    "x=np.arange(-5.0,5.0,0.1)\n",
    "a=2\n",
    "b=3\n",
    "c=5\n",
    "#y=a*(x**2)+b*(x)+c\n",
    "y=np.power(x,2)\n",
    "y_noise=2*np.random.normal(size=x.size)\n",
    "ydata=y+y_noise\n",
    "plt.plot(x,ydata,'b')\n",
    "plt.plot(x,y,'r')\n",
    "plt.ylabel('Dependent variable')\n",
    "plt.xlabel('Independent variable')\n",
    "plt.show()"
   ]
  },
  {
   "cell_type": "markdown",
   "metadata": {},
   "source": [
    "## A cubic function plotting"
   ]
  },
  {
   "cell_type": "code",
   "execution_count": null,
   "metadata": {},
   "outputs": [],
   "source": [
    "x=np.arange(-5.0,5.0,0.1)\n",
    "a=2\n",
    "b=3\n",
    "c=5\n",
    "y=a*(x**3)+b*(x**2)+c\n",
    "y_noise=2*np.random.normal(size=x.size)\n",
    "ydata=y+y_noise\n",
    "plt.plot(x,ydata,'b')\n",
    "plt.plot(x,y,'r')\n",
    "plt.ylabel('Dependent variable')\n",
    "plt.xlabel('Independent variable')\n",
    "plt.show()"
   ]
  },
  {
   "cell_type": "markdown",
   "metadata": {},
   "source": [
    "## An exponential function plotting\n",
    "\n"
   ]
  },
  {
   "cell_type": "code",
   "execution_count": null,
   "metadata": {},
   "outputs": [],
   "source": [
    "x=np.arange(-5.0,5.0,0.1)\n",
    "y=np.exp(x)\n",
    "plt.plot(x,y)\n",
    "plt.ylabel('Dependent variable')\n",
    "plt.xlabel('Independent variable')\n",
    "plt.show()"
   ]
  },
  {
   "cell_type": "code",
   "execution_count": null,
   "metadata": {},
   "outputs": [],
   "source": []
  }
 ],
 "metadata": {
  "kernelspec": {
   "display_name": "Python 3",
   "language": "python",
   "name": "python3"
  },
  "language_info": {
   "codemirror_mode": {
    "name": "ipython",
    "version": 3
   },
   "file_extension": ".py",
   "mimetype": "text/x-python",
   "name": "python",
   "nbconvert_exporter": "python",
   "pygments_lexer": "ipython3",
   "version": "3.8.5"
  }
 },
 "nbformat": 4,
 "nbformat_minor": 2
}
